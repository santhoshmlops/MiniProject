{
 "cells": [
  {
   "cell_type": "code",
   "execution_count": 1,
   "id": "5545f896",
   "metadata": {},
   "outputs": [],
   "source": [
    "# Import required Packages \n",
    "from sklearn.datasets import load_boston\n",
    "import pandas as pd\n",
    "import seaborn as sns\n",
    "import matplotlib.pyplot as plt\n",
    "import numpy as np\n",
    "%matplotlib inline\n",
    "import warnings\n",
    "warnings.filterwarnings('ignore')"
   ]
  },
  {
   "cell_type": "code",
   "execution_count": 2,
   "id": "0b3b7a08",
   "metadata": {},
   "outputs": [],
   "source": [
    "# Load data - Reading Boston Data\n",
    "boston = load_boston()\n",
    "X = pd.DataFrame(boston.data, columns=boston.feature_names) #Independent columns\n",
    "y = pd.Series(boston.target) #Dependent column - Median value of House"
   ]
  },
  {
   "cell_type": "code",
   "execution_count": 3,
   "id": "6382f6d2",
   "metadata": {},
   "outputs": [],
   "source": [
    "# Descriptive Analysis"
   ]
  },
  {
   "cell_type": "code",
   "execution_count": 4,
   "id": "92544599",
   "metadata": {},
   "outputs": [
    {
     "name": "stdout",
     "output_type": "stream",
     "text": [
      "<class 'pandas.core.frame.DataFrame'>\n",
      "RangeIndex: 506 entries, 0 to 505\n",
      "Data columns (total 13 columns):\n",
      " #   Column   Non-Null Count  Dtype  \n",
      "---  ------   --------------  -----  \n",
      " 0   CRIM     506 non-null    float64\n",
      " 1   ZN       506 non-null    float64\n",
      " 2   INDUS    506 non-null    float64\n",
      " 3   CHAS     506 non-null    float64\n",
      " 4   NOX      506 non-null    float64\n",
      " 5   RM       506 non-null    float64\n",
      " 6   AGE      506 non-null    float64\n",
      " 7   DIS      506 non-null    float64\n",
      " 8   RAD      506 non-null    float64\n",
      " 9   TAX      506 non-null    float64\n",
      " 10  PTRATIO  506 non-null    float64\n",
      " 11  B        506 non-null    float64\n",
      " 12  LSTAT    506 non-null    float64\n",
      "dtypes: float64(13)\n",
      "memory usage: 51.5 KB\n"
     ]
    }
   ],
   "source": [
    "# This gives the information about the dataset\n",
    "X.info() "
   ]
  },
  {
   "cell_type": "code",
   "execution_count": 5,
   "id": "1e38e719",
   "metadata": {},
   "outputs": [
    {
     "data": {
      "text/html": [
       "<div>\n",
       "<style scoped>\n",
       "    .dataframe tbody tr th:only-of-type {\n",
       "        vertical-align: middle;\n",
       "    }\n",
       "\n",
       "    .dataframe tbody tr th {\n",
       "        vertical-align: top;\n",
       "    }\n",
       "\n",
       "    .dataframe thead th {\n",
       "        text-align: right;\n",
       "    }\n",
       "</style>\n",
       "<table border=\"1\" class=\"dataframe\">\n",
       "  <thead>\n",
       "    <tr style=\"text-align: right;\">\n",
       "      <th></th>\n",
       "      <th>CRIM</th>\n",
       "      <th>ZN</th>\n",
       "      <th>INDUS</th>\n",
       "      <th>CHAS</th>\n",
       "      <th>NOX</th>\n",
       "      <th>RM</th>\n",
       "      <th>AGE</th>\n",
       "      <th>DIS</th>\n",
       "      <th>RAD</th>\n",
       "      <th>TAX</th>\n",
       "      <th>PTRATIO</th>\n",
       "      <th>B</th>\n",
       "      <th>LSTAT</th>\n",
       "    </tr>\n",
       "  </thead>\n",
       "  <tbody>\n",
       "    <tr>\n",
       "      <th>count</th>\n",
       "      <td>506.000000</td>\n",
       "      <td>506.000000</td>\n",
       "      <td>506.000000</td>\n",
       "      <td>506.000000</td>\n",
       "      <td>506.000000</td>\n",
       "      <td>506.000000</td>\n",
       "      <td>506.000000</td>\n",
       "      <td>506.000000</td>\n",
       "      <td>506.000000</td>\n",
       "      <td>506.000000</td>\n",
       "      <td>506.000000</td>\n",
       "      <td>506.000000</td>\n",
       "      <td>506.000000</td>\n",
       "    </tr>\n",
       "    <tr>\n",
       "      <th>mean</th>\n",
       "      <td>3.613524</td>\n",
       "      <td>11.363636</td>\n",
       "      <td>11.136779</td>\n",
       "      <td>0.069170</td>\n",
       "      <td>0.554695</td>\n",
       "      <td>6.284634</td>\n",
       "      <td>68.574901</td>\n",
       "      <td>3.795043</td>\n",
       "      <td>9.549407</td>\n",
       "      <td>408.237154</td>\n",
       "      <td>18.455534</td>\n",
       "      <td>356.674032</td>\n",
       "      <td>12.653063</td>\n",
       "    </tr>\n",
       "    <tr>\n",
       "      <th>std</th>\n",
       "      <td>8.601545</td>\n",
       "      <td>23.322453</td>\n",
       "      <td>6.860353</td>\n",
       "      <td>0.253994</td>\n",
       "      <td>0.115878</td>\n",
       "      <td>0.702617</td>\n",
       "      <td>28.148861</td>\n",
       "      <td>2.105710</td>\n",
       "      <td>8.707259</td>\n",
       "      <td>168.537116</td>\n",
       "      <td>2.164946</td>\n",
       "      <td>91.294864</td>\n",
       "      <td>7.141062</td>\n",
       "    </tr>\n",
       "    <tr>\n",
       "      <th>min</th>\n",
       "      <td>0.006320</td>\n",
       "      <td>0.000000</td>\n",
       "      <td>0.460000</td>\n",
       "      <td>0.000000</td>\n",
       "      <td>0.385000</td>\n",
       "      <td>3.561000</td>\n",
       "      <td>2.900000</td>\n",
       "      <td>1.129600</td>\n",
       "      <td>1.000000</td>\n",
       "      <td>187.000000</td>\n",
       "      <td>12.600000</td>\n",
       "      <td>0.320000</td>\n",
       "      <td>1.730000</td>\n",
       "    </tr>\n",
       "    <tr>\n",
       "      <th>25%</th>\n",
       "      <td>0.082045</td>\n",
       "      <td>0.000000</td>\n",
       "      <td>5.190000</td>\n",
       "      <td>0.000000</td>\n",
       "      <td>0.449000</td>\n",
       "      <td>5.885500</td>\n",
       "      <td>45.025000</td>\n",
       "      <td>2.100175</td>\n",
       "      <td>4.000000</td>\n",
       "      <td>279.000000</td>\n",
       "      <td>17.400000</td>\n",
       "      <td>375.377500</td>\n",
       "      <td>6.950000</td>\n",
       "    </tr>\n",
       "    <tr>\n",
       "      <th>50%</th>\n",
       "      <td>0.256510</td>\n",
       "      <td>0.000000</td>\n",
       "      <td>9.690000</td>\n",
       "      <td>0.000000</td>\n",
       "      <td>0.538000</td>\n",
       "      <td>6.208500</td>\n",
       "      <td>77.500000</td>\n",
       "      <td>3.207450</td>\n",
       "      <td>5.000000</td>\n",
       "      <td>330.000000</td>\n",
       "      <td>19.050000</td>\n",
       "      <td>391.440000</td>\n",
       "      <td>11.360000</td>\n",
       "    </tr>\n",
       "    <tr>\n",
       "      <th>75%</th>\n",
       "      <td>3.677083</td>\n",
       "      <td>12.500000</td>\n",
       "      <td>18.100000</td>\n",
       "      <td>0.000000</td>\n",
       "      <td>0.624000</td>\n",
       "      <td>6.623500</td>\n",
       "      <td>94.075000</td>\n",
       "      <td>5.188425</td>\n",
       "      <td>24.000000</td>\n",
       "      <td>666.000000</td>\n",
       "      <td>20.200000</td>\n",
       "      <td>396.225000</td>\n",
       "      <td>16.955000</td>\n",
       "    </tr>\n",
       "    <tr>\n",
       "      <th>max</th>\n",
       "      <td>88.976200</td>\n",
       "      <td>100.000000</td>\n",
       "      <td>27.740000</td>\n",
       "      <td>1.000000</td>\n",
       "      <td>0.871000</td>\n",
       "      <td>8.780000</td>\n",
       "      <td>100.000000</td>\n",
       "      <td>12.126500</td>\n",
       "      <td>24.000000</td>\n",
       "      <td>711.000000</td>\n",
       "      <td>22.000000</td>\n",
       "      <td>396.900000</td>\n",
       "      <td>37.970000</td>\n",
       "    </tr>\n",
       "  </tbody>\n",
       "</table>\n",
       "</div>"
      ],
      "text/plain": [
       "             CRIM          ZN       INDUS        CHAS         NOX          RM  \\\n",
       "count  506.000000  506.000000  506.000000  506.000000  506.000000  506.000000   \n",
       "mean     3.613524   11.363636   11.136779    0.069170    0.554695    6.284634   \n",
       "std      8.601545   23.322453    6.860353    0.253994    0.115878    0.702617   \n",
       "min      0.006320    0.000000    0.460000    0.000000    0.385000    3.561000   \n",
       "25%      0.082045    0.000000    5.190000    0.000000    0.449000    5.885500   \n",
       "50%      0.256510    0.000000    9.690000    0.000000    0.538000    6.208500   \n",
       "75%      3.677083   12.500000   18.100000    0.000000    0.624000    6.623500   \n",
       "max     88.976200  100.000000   27.740000    1.000000    0.871000    8.780000   \n",
       "\n",
       "              AGE         DIS         RAD         TAX     PTRATIO           B  \\\n",
       "count  506.000000  506.000000  506.000000  506.000000  506.000000  506.000000   \n",
       "mean    68.574901    3.795043    9.549407  408.237154   18.455534  356.674032   \n",
       "std     28.148861    2.105710    8.707259  168.537116    2.164946   91.294864   \n",
       "min      2.900000    1.129600    1.000000  187.000000   12.600000    0.320000   \n",
       "25%     45.025000    2.100175    4.000000  279.000000   17.400000  375.377500   \n",
       "50%     77.500000    3.207450    5.000000  330.000000   19.050000  391.440000   \n",
       "75%     94.075000    5.188425   24.000000  666.000000   20.200000  396.225000   \n",
       "max    100.000000   12.126500   24.000000  711.000000   22.000000  396.900000   \n",
       "\n",
       "            LSTAT  \n",
       "count  506.000000  \n",
       "mean    12.653063  \n",
       "std      7.141062  \n",
       "min      1.730000  \n",
       "25%      6.950000  \n",
       "50%     11.360000  \n",
       "75%     16.955000  \n",
       "max     37.970000  "
      ]
     },
     "execution_count": 5,
     "metadata": {},
     "output_type": "execute_result"
    }
   ],
   "source": [
    "# Generate descriptive statistics\n",
    "X.describe()"
   ]
  },
  {
   "cell_type": "code",
   "execution_count": 6,
   "id": "6f808194",
   "metadata": {},
   "outputs": [
    {
     "data": {
      "text/html": [
       "<div>\n",
       "<style scoped>\n",
       "    .dataframe tbody tr th:only-of-type {\n",
       "        vertical-align: middle;\n",
       "    }\n",
       "\n",
       "    .dataframe tbody tr th {\n",
       "        vertical-align: top;\n",
       "    }\n",
       "\n",
       "    .dataframe thead th {\n",
       "        text-align: right;\n",
       "    }\n",
       "</style>\n",
       "<table border=\"1\" class=\"dataframe\">\n",
       "  <thead>\n",
       "    <tr style=\"text-align: right;\">\n",
       "      <th></th>\n",
       "      <th>CRIM</th>\n",
       "      <th>ZN</th>\n",
       "      <th>INDUS</th>\n",
       "      <th>CHAS</th>\n",
       "      <th>NOX</th>\n",
       "      <th>RM</th>\n",
       "      <th>AGE</th>\n",
       "      <th>DIS</th>\n",
       "      <th>RAD</th>\n",
       "      <th>TAX</th>\n",
       "      <th>PTRATIO</th>\n",
       "      <th>B</th>\n",
       "      <th>LSTAT</th>\n",
       "    </tr>\n",
       "  </thead>\n",
       "  <tbody>\n",
       "    <tr>\n",
       "      <th>CRIM</th>\n",
       "      <td>1.000000</td>\n",
       "      <td>-0.200469</td>\n",
       "      <td>0.406583</td>\n",
       "      <td>-0.055892</td>\n",
       "      <td>0.420972</td>\n",
       "      <td>-0.219247</td>\n",
       "      <td>0.352734</td>\n",
       "      <td>-0.379670</td>\n",
       "      <td>0.625505</td>\n",
       "      <td>0.582764</td>\n",
       "      <td>0.289946</td>\n",
       "      <td>-0.385064</td>\n",
       "      <td>0.455621</td>\n",
       "    </tr>\n",
       "    <tr>\n",
       "      <th>ZN</th>\n",
       "      <td>-0.200469</td>\n",
       "      <td>1.000000</td>\n",
       "      <td>-0.533828</td>\n",
       "      <td>-0.042697</td>\n",
       "      <td>-0.516604</td>\n",
       "      <td>0.311991</td>\n",
       "      <td>-0.569537</td>\n",
       "      <td>0.664408</td>\n",
       "      <td>-0.311948</td>\n",
       "      <td>-0.314563</td>\n",
       "      <td>-0.391679</td>\n",
       "      <td>0.175520</td>\n",
       "      <td>-0.412995</td>\n",
       "    </tr>\n",
       "    <tr>\n",
       "      <th>INDUS</th>\n",
       "      <td>0.406583</td>\n",
       "      <td>-0.533828</td>\n",
       "      <td>1.000000</td>\n",
       "      <td>0.062938</td>\n",
       "      <td>0.763651</td>\n",
       "      <td>-0.391676</td>\n",
       "      <td>0.644779</td>\n",
       "      <td>-0.708027</td>\n",
       "      <td>0.595129</td>\n",
       "      <td>0.720760</td>\n",
       "      <td>0.383248</td>\n",
       "      <td>-0.356977</td>\n",
       "      <td>0.603800</td>\n",
       "    </tr>\n",
       "    <tr>\n",
       "      <th>CHAS</th>\n",
       "      <td>-0.055892</td>\n",
       "      <td>-0.042697</td>\n",
       "      <td>0.062938</td>\n",
       "      <td>1.000000</td>\n",
       "      <td>0.091203</td>\n",
       "      <td>0.091251</td>\n",
       "      <td>0.086518</td>\n",
       "      <td>-0.099176</td>\n",
       "      <td>-0.007368</td>\n",
       "      <td>-0.035587</td>\n",
       "      <td>-0.121515</td>\n",
       "      <td>0.048788</td>\n",
       "      <td>-0.053929</td>\n",
       "    </tr>\n",
       "    <tr>\n",
       "      <th>NOX</th>\n",
       "      <td>0.420972</td>\n",
       "      <td>-0.516604</td>\n",
       "      <td>0.763651</td>\n",
       "      <td>0.091203</td>\n",
       "      <td>1.000000</td>\n",
       "      <td>-0.302188</td>\n",
       "      <td>0.731470</td>\n",
       "      <td>-0.769230</td>\n",
       "      <td>0.611441</td>\n",
       "      <td>0.668023</td>\n",
       "      <td>0.188933</td>\n",
       "      <td>-0.380051</td>\n",
       "      <td>0.590879</td>\n",
       "    </tr>\n",
       "    <tr>\n",
       "      <th>RM</th>\n",
       "      <td>-0.219247</td>\n",
       "      <td>0.311991</td>\n",
       "      <td>-0.391676</td>\n",
       "      <td>0.091251</td>\n",
       "      <td>-0.302188</td>\n",
       "      <td>1.000000</td>\n",
       "      <td>-0.240265</td>\n",
       "      <td>0.205246</td>\n",
       "      <td>-0.209847</td>\n",
       "      <td>-0.292048</td>\n",
       "      <td>-0.355501</td>\n",
       "      <td>0.128069</td>\n",
       "      <td>-0.613808</td>\n",
       "    </tr>\n",
       "    <tr>\n",
       "      <th>AGE</th>\n",
       "      <td>0.352734</td>\n",
       "      <td>-0.569537</td>\n",
       "      <td>0.644779</td>\n",
       "      <td>0.086518</td>\n",
       "      <td>0.731470</td>\n",
       "      <td>-0.240265</td>\n",
       "      <td>1.000000</td>\n",
       "      <td>-0.747881</td>\n",
       "      <td>0.456022</td>\n",
       "      <td>0.506456</td>\n",
       "      <td>0.261515</td>\n",
       "      <td>-0.273534</td>\n",
       "      <td>0.602339</td>\n",
       "    </tr>\n",
       "    <tr>\n",
       "      <th>DIS</th>\n",
       "      <td>-0.379670</td>\n",
       "      <td>0.664408</td>\n",
       "      <td>-0.708027</td>\n",
       "      <td>-0.099176</td>\n",
       "      <td>-0.769230</td>\n",
       "      <td>0.205246</td>\n",
       "      <td>-0.747881</td>\n",
       "      <td>1.000000</td>\n",
       "      <td>-0.494588</td>\n",
       "      <td>-0.534432</td>\n",
       "      <td>-0.232471</td>\n",
       "      <td>0.291512</td>\n",
       "      <td>-0.496996</td>\n",
       "    </tr>\n",
       "    <tr>\n",
       "      <th>RAD</th>\n",
       "      <td>0.625505</td>\n",
       "      <td>-0.311948</td>\n",
       "      <td>0.595129</td>\n",
       "      <td>-0.007368</td>\n",
       "      <td>0.611441</td>\n",
       "      <td>-0.209847</td>\n",
       "      <td>0.456022</td>\n",
       "      <td>-0.494588</td>\n",
       "      <td>1.000000</td>\n",
       "      <td>0.910228</td>\n",
       "      <td>0.464741</td>\n",
       "      <td>-0.444413</td>\n",
       "      <td>0.488676</td>\n",
       "    </tr>\n",
       "    <tr>\n",
       "      <th>TAX</th>\n",
       "      <td>0.582764</td>\n",
       "      <td>-0.314563</td>\n",
       "      <td>0.720760</td>\n",
       "      <td>-0.035587</td>\n",
       "      <td>0.668023</td>\n",
       "      <td>-0.292048</td>\n",
       "      <td>0.506456</td>\n",
       "      <td>-0.534432</td>\n",
       "      <td>0.910228</td>\n",
       "      <td>1.000000</td>\n",
       "      <td>0.460853</td>\n",
       "      <td>-0.441808</td>\n",
       "      <td>0.543993</td>\n",
       "    </tr>\n",
       "    <tr>\n",
       "      <th>PTRATIO</th>\n",
       "      <td>0.289946</td>\n",
       "      <td>-0.391679</td>\n",
       "      <td>0.383248</td>\n",
       "      <td>-0.121515</td>\n",
       "      <td>0.188933</td>\n",
       "      <td>-0.355501</td>\n",
       "      <td>0.261515</td>\n",
       "      <td>-0.232471</td>\n",
       "      <td>0.464741</td>\n",
       "      <td>0.460853</td>\n",
       "      <td>1.000000</td>\n",
       "      <td>-0.177383</td>\n",
       "      <td>0.374044</td>\n",
       "    </tr>\n",
       "    <tr>\n",
       "      <th>B</th>\n",
       "      <td>-0.385064</td>\n",
       "      <td>0.175520</td>\n",
       "      <td>-0.356977</td>\n",
       "      <td>0.048788</td>\n",
       "      <td>-0.380051</td>\n",
       "      <td>0.128069</td>\n",
       "      <td>-0.273534</td>\n",
       "      <td>0.291512</td>\n",
       "      <td>-0.444413</td>\n",
       "      <td>-0.441808</td>\n",
       "      <td>-0.177383</td>\n",
       "      <td>1.000000</td>\n",
       "      <td>-0.366087</td>\n",
       "    </tr>\n",
       "    <tr>\n",
       "      <th>LSTAT</th>\n",
       "      <td>0.455621</td>\n",
       "      <td>-0.412995</td>\n",
       "      <td>0.603800</td>\n",
       "      <td>-0.053929</td>\n",
       "      <td>0.590879</td>\n",
       "      <td>-0.613808</td>\n",
       "      <td>0.602339</td>\n",
       "      <td>-0.496996</td>\n",
       "      <td>0.488676</td>\n",
       "      <td>0.543993</td>\n",
       "      <td>0.374044</td>\n",
       "      <td>-0.366087</td>\n",
       "      <td>1.000000</td>\n",
       "    </tr>\n",
       "  </tbody>\n",
       "</table>\n",
       "</div>"
      ],
      "text/plain": [
       "             CRIM        ZN     INDUS      CHAS       NOX        RM       AGE  \\\n",
       "CRIM     1.000000 -0.200469  0.406583 -0.055892  0.420972 -0.219247  0.352734   \n",
       "ZN      -0.200469  1.000000 -0.533828 -0.042697 -0.516604  0.311991 -0.569537   \n",
       "INDUS    0.406583 -0.533828  1.000000  0.062938  0.763651 -0.391676  0.644779   \n",
       "CHAS    -0.055892 -0.042697  0.062938  1.000000  0.091203  0.091251  0.086518   \n",
       "NOX      0.420972 -0.516604  0.763651  0.091203  1.000000 -0.302188  0.731470   \n",
       "RM      -0.219247  0.311991 -0.391676  0.091251 -0.302188  1.000000 -0.240265   \n",
       "AGE      0.352734 -0.569537  0.644779  0.086518  0.731470 -0.240265  1.000000   \n",
       "DIS     -0.379670  0.664408 -0.708027 -0.099176 -0.769230  0.205246 -0.747881   \n",
       "RAD      0.625505 -0.311948  0.595129 -0.007368  0.611441 -0.209847  0.456022   \n",
       "TAX      0.582764 -0.314563  0.720760 -0.035587  0.668023 -0.292048  0.506456   \n",
       "PTRATIO  0.289946 -0.391679  0.383248 -0.121515  0.188933 -0.355501  0.261515   \n",
       "B       -0.385064  0.175520 -0.356977  0.048788 -0.380051  0.128069 -0.273534   \n",
       "LSTAT    0.455621 -0.412995  0.603800 -0.053929  0.590879 -0.613808  0.602339   \n",
       "\n",
       "              DIS       RAD       TAX   PTRATIO         B     LSTAT  \n",
       "CRIM    -0.379670  0.625505  0.582764  0.289946 -0.385064  0.455621  \n",
       "ZN       0.664408 -0.311948 -0.314563 -0.391679  0.175520 -0.412995  \n",
       "INDUS   -0.708027  0.595129  0.720760  0.383248 -0.356977  0.603800  \n",
       "CHAS    -0.099176 -0.007368 -0.035587 -0.121515  0.048788 -0.053929  \n",
       "NOX     -0.769230  0.611441  0.668023  0.188933 -0.380051  0.590879  \n",
       "RM       0.205246 -0.209847 -0.292048 -0.355501  0.128069 -0.613808  \n",
       "AGE     -0.747881  0.456022  0.506456  0.261515 -0.273534  0.602339  \n",
       "DIS      1.000000 -0.494588 -0.534432 -0.232471  0.291512 -0.496996  \n",
       "RAD     -0.494588  1.000000  0.910228  0.464741 -0.444413  0.488676  \n",
       "TAX     -0.534432  0.910228  1.000000  0.460853 -0.441808  0.543993  \n",
       "PTRATIO -0.232471  0.464741  0.460853  1.000000 -0.177383  0.374044  \n",
       "B        0.291512 -0.444413 -0.441808 -0.177383  1.000000 -0.366087  \n",
       "LSTAT   -0.496996  0.488676  0.543993  0.374044 -0.366087  1.000000  "
      ]
     },
     "execution_count": 6,
     "metadata": {},
     "output_type": "execute_result"
    }
   ],
   "source": [
    "# Finding the correlation between the independent features\n",
    "X.corr()"
   ]
  },
  {
   "cell_type": "code",
   "execution_count": 7,
   "id": "0e8c7ece",
   "metadata": {},
   "outputs": [
    {
     "data": {
      "text/plain": [
       "CRIM       0\n",
       "ZN         0\n",
       "INDUS      0\n",
       "CHAS       0\n",
       "NOX        0\n",
       "RM         0\n",
       "AGE        0\n",
       "DIS        0\n",
       "RAD        0\n",
       "TAX        0\n",
       "PTRATIO    0\n",
       "B          0\n",
       "LSTAT      0\n",
       "dtype: int64"
      ]
     },
     "execution_count": 7,
     "metadata": {},
     "output_type": "execute_result"
    }
   ],
   "source": [
    "# Finding Missing Values\n",
    "X.isnull().sum()"
   ]
  },
  {
   "cell_type": "code",
   "execution_count": 8,
   "id": "bf01edc6",
   "metadata": {},
   "outputs": [],
   "source": [
    "# Visualize the data\n",
    "#sns.pairplot(X)"
   ]
  },
  {
   "cell_type": "code",
   "execution_count": 9,
   "id": "3b98e3ab",
   "metadata": {},
   "outputs": [],
   "source": [
    "# Split the dataset using train_test_split\n",
    "from sklearn.model_selection import train_test_split\n",
    "X_train, X_test, y_train, y_test = train_test_split(X, y, test_size=0.2, random_state=42)"
   ]
  },
  {
   "cell_type": "code",
   "execution_count": 10,
   "id": "ac70d088",
   "metadata": {},
   "outputs": [],
   "source": [
    "# Standardize the dataset\n",
    "from sklearn.preprocessing import StandardScaler\n",
    "scaler = StandardScaler()\n",
    "scaled_X_train = scaler.fit_transform(X_train)\n",
    "scaled_X_test = scaler.transform(X_test)"
   ]
  },
  {
   "cell_type": "code",
   "execution_count": 11,
   "id": "be521f16",
   "metadata": {},
   "outputs": [
    {
     "data": {
      "text/plain": [
       "array([[ 1.28770177, -0.50032012,  1.03323679, ...,  0.84534281,\n",
       "        -0.07433689,  1.75350503],\n",
       "       [-0.33638447, -0.50032012, -0.41315956, ...,  1.20474139,\n",
       "         0.4301838 , -0.5614742 ],\n",
       "       [-0.40325332,  1.01327135, -0.71521823, ..., -0.63717631,\n",
       "         0.06529747, -0.65159505],\n",
       "       ...,\n",
       "       [-0.40547014,  2.95931752, -1.30336132, ..., -0.59225149,\n",
       "         0.37901005, -0.91069248],\n",
       "       [ 0.85189733, -0.50032012,  1.03323679, ...,  0.84534281,\n",
       "        -2.69458597,  1.52257036],\n",
       "       [-0.38135592, -0.50032012, -0.35216694, ...,  1.15981657,\n",
       "        -3.12158061, -0.25731635]])"
      ]
     },
     "execution_count": 11,
     "metadata": {},
     "output_type": "execute_result"
    }
   ],
   "source": [
    "scaled_X_train"
   ]
  },
  {
   "cell_type": "code",
   "execution_count": 12,
   "id": "d75e9458",
   "metadata": {},
   "outputs": [
    {
     "data": {
      "text/plain": [
       "array([[-0.39680933, -0.50032012, -1.00711147, ..., -0.77195078,\n",
       "         0.42887165, -0.48121032],\n",
       "       [-0.40079621,  1.2294987 , -0.66439105, ..., -0.32270256,\n",
       "         0.44418004, -1.25709448],\n",
       "       [-0.39523443, -0.50032012,  2.43316256, ...,  0.80041799,\n",
       "         0.36993437,  0.79033849],\n",
       "       ...,\n",
       "       [ 1.1779666 , -0.50032012,  1.03323679, ...,  0.84534281,\n",
       "        -3.5124912 ,  1.23390203],\n",
       "       [-0.40131065, -0.50032012, -0.94321444, ...,  0.08162084,\n",
       "         0.43422959,  0.05669848],\n",
       "       [-0.39643252, -0.50032012,  0.26792466, ...,  0.17147048,\n",
       "         0.29470458, -0.49529171]])"
      ]
     },
     "execution_count": 12,
     "metadata": {},
     "output_type": "execute_result"
    }
   ],
   "source": [
    "scaled_X_test"
   ]
  },
  {
   "cell_type": "code",
   "execution_count": 13,
   "id": "249d8a14",
   "metadata": {},
   "outputs": [
    {
     "data": {
      "text/html": [
       "<style>#sk-container-id-1 {color: black;background-color: white;}#sk-container-id-1 pre{padding: 0;}#sk-container-id-1 div.sk-toggleable {background-color: white;}#sk-container-id-1 label.sk-toggleable__label {cursor: pointer;display: block;width: 100%;margin-bottom: 0;padding: 0.3em;box-sizing: border-box;text-align: center;}#sk-container-id-1 label.sk-toggleable__label-arrow:before {content: \"▸\";float: left;margin-right: 0.25em;color: #696969;}#sk-container-id-1 label.sk-toggleable__label-arrow:hover:before {color: black;}#sk-container-id-1 div.sk-estimator:hover label.sk-toggleable__label-arrow:before {color: black;}#sk-container-id-1 div.sk-toggleable__content {max-height: 0;max-width: 0;overflow: hidden;text-align: left;background-color: #f0f8ff;}#sk-container-id-1 div.sk-toggleable__content pre {margin: 0.2em;color: black;border-radius: 0.25em;background-color: #f0f8ff;}#sk-container-id-1 input.sk-toggleable__control:checked~div.sk-toggleable__content {max-height: 200px;max-width: 100%;overflow: auto;}#sk-container-id-1 input.sk-toggleable__control:checked~label.sk-toggleable__label-arrow:before {content: \"▾\";}#sk-container-id-1 div.sk-estimator input.sk-toggleable__control:checked~label.sk-toggleable__label {background-color: #d4ebff;}#sk-container-id-1 div.sk-label input.sk-toggleable__control:checked~label.sk-toggleable__label {background-color: #d4ebff;}#sk-container-id-1 input.sk-hidden--visually {border: 0;clip: rect(1px 1px 1px 1px);clip: rect(1px, 1px, 1px, 1px);height: 1px;margin: -1px;overflow: hidden;padding: 0;position: absolute;width: 1px;}#sk-container-id-1 div.sk-estimator {font-family: monospace;background-color: #f0f8ff;border: 1px dotted black;border-radius: 0.25em;box-sizing: border-box;margin-bottom: 0.5em;}#sk-container-id-1 div.sk-estimator:hover {background-color: #d4ebff;}#sk-container-id-1 div.sk-parallel-item::after {content: \"\";width: 100%;border-bottom: 1px solid gray;flex-grow: 1;}#sk-container-id-1 div.sk-label:hover label.sk-toggleable__label {background-color: #d4ebff;}#sk-container-id-1 div.sk-serial::before {content: \"\";position: absolute;border-left: 1px solid gray;box-sizing: border-box;top: 0;bottom: 0;left: 50%;z-index: 0;}#sk-container-id-1 div.sk-serial {display: flex;flex-direction: column;align-items: center;background-color: white;padding-right: 0.2em;padding-left: 0.2em;position: relative;}#sk-container-id-1 div.sk-item {position: relative;z-index: 1;}#sk-container-id-1 div.sk-parallel {display: flex;align-items: stretch;justify-content: center;background-color: white;position: relative;}#sk-container-id-1 div.sk-item::before, #sk-container-id-1 div.sk-parallel-item::before {content: \"\";position: absolute;border-left: 1px solid gray;box-sizing: border-box;top: 0;bottom: 0;left: 50%;z-index: -1;}#sk-container-id-1 div.sk-parallel-item {display: flex;flex-direction: column;z-index: 1;position: relative;background-color: white;}#sk-container-id-1 div.sk-parallel-item:first-child::after {align-self: flex-end;width: 50%;}#sk-container-id-1 div.sk-parallel-item:last-child::after {align-self: flex-start;width: 50%;}#sk-container-id-1 div.sk-parallel-item:only-child::after {width: 0;}#sk-container-id-1 div.sk-dashed-wrapped {border: 1px dashed gray;margin: 0 0.4em 0.5em 0.4em;box-sizing: border-box;padding-bottom: 0.4em;background-color: white;}#sk-container-id-1 div.sk-label label {font-family: monospace;font-weight: bold;display: inline-block;line-height: 1.2em;}#sk-container-id-1 div.sk-label-container {text-align: center;}#sk-container-id-1 div.sk-container {/* jupyter's `normalize.less` sets `[hidden] { display: none; }` but bootstrap.min.css set `[hidden] { display: none !important; }` so we also need the `!important` here to be able to override the default hidden behavior on the sphinx rendered scikit-learn.org. See: https://github.com/scikit-learn/scikit-learn/issues/21755 */display: inline-block !important;position: relative;}#sk-container-id-1 div.sk-text-repr-fallback {display: none;}</style><div id=\"sk-container-id-1\" class=\"sk-top-container\"><div class=\"sk-text-repr-fallback\"><pre>LinearRegression()</pre><b>In a Jupyter environment, please rerun this cell to show the HTML representation or trust the notebook. <br />On GitHub, the HTML representation is unable to render, please try loading this page with nbviewer.org.</b></div><div class=\"sk-container\" hidden><div class=\"sk-item\"><div class=\"sk-estimator sk-toggleable\"><input class=\"sk-toggleable__control sk-hidden--visually\" id=\"sk-estimator-id-1\" type=\"checkbox\" checked><label for=\"sk-estimator-id-1\" class=\"sk-toggleable__label sk-toggleable__label-arrow\">LinearRegression</label><div class=\"sk-toggleable__content\"><pre>LinearRegression()</pre></div></div></div></div></div>"
      ],
      "text/plain": [
       "LinearRegression()"
      ]
     },
     "execution_count": 13,
     "metadata": {},
     "output_type": "execute_result"
    }
   ],
   "source": [
    "# model Traing\n",
    "from sklearn.linear_model import LinearRegression\n",
    "lin_reg = LinearRegression()\n",
    "lin_reg.fit(scaled_X_train,y_train)"
   ]
  },
  {
   "cell_type": "code",
   "execution_count": 14,
   "id": "4b336ad5",
   "metadata": {},
   "outputs": [],
   "source": [
    "# finding y_pred\n",
    "y_pred = lin_reg.predict(scaled_X_test)"
   ]
  },
  {
   "cell_type": "code",
   "execution_count": 15,
   "id": "825a23ef",
   "metadata": {},
   "outputs": [],
   "source": [
    "#finding residuals\n",
    "residuals = y_test-y_pred"
   ]
  },
  {
   "cell_type": "code",
   "execution_count": 16,
   "id": "9903a406",
   "metadata": {},
   "outputs": [
    {
     "data": {
      "text/plain": [
       "<matplotlib.lines.Line2D at 0x1dde475d330>"
      ]
     },
     "execution_count": 16,
     "metadata": {},
     "output_type": "execute_result"
    },
    {
     "data": {
      "image/png": "[encoded data removed]",
      "text/plain": [
       "<Figure size 640x480 with 1 Axes>"
      ]
     },
     "metadata": {},
     "output_type": "display_data"
    }
   ],
   "source": [
    "# plot the residuals to find the pattern of residuals\n",
    "sns.scatterplot(y_pred,residuals)\n",
    "plt.axhline(y=0,c='r')"
   ]
  },
  {
   "cell_type": "code",
   "execution_count": 17,
   "id": "7bc4fd88",
   "metadata": {},
   "outputs": [
    {
     "data": {
      "text/plain": [
       "<AxesSubplot:ylabel='Count'>"
      ]
     },
     "execution_count": 17,
     "metadata": {},
     "output_type": "execute_result"
    },
    {
     "data": {
      "image/png": "[encoded data removed]",
      "text/plain": [
       "<Figure size 640x480 with 1 Axes>"
      ]
     },
     "metadata": {},
     "output_type": "display_data"
    }
   ],
   "source": [
    "# residuals should follow normal distibution\n",
    "sns.histplot(residuals,kde=True)"
   ]
  },
  {
   "cell_type": "code",
   "execution_count": 18,
   "id": "6b43b6d5",
   "metadata": {},
   "outputs": [
    {
     "data": {
      "text/plain": [
       "<AxesSubplot:>"
      ]
     },
     "execution_count": 18,
     "metadata": {},
     "output_type": "execute_result"
    },
    {
     "data": {
      "image/png": "[encoded data removed]",
      "text/plain": [
       "<Figure size 640x480 with 1 Axes>"
      ]
     },
     "metadata": {},
     "output_type": "display_data"
    }
   ],
   "source": [
    "# plot the predicting values\n",
    "sns.scatterplot(y_test,y_pred)"
   ]
  },
  {
   "cell_type": "code",
   "execution_count": 19,
   "id": "2bf1fd0f",
   "metadata": {},
   "outputs": [
    {
     "name": "stdout",
     "output_type": "stream",
     "text": [
      "MAE : 3.1890919658878483\n",
      "MSE : 24.29111947497352\n",
      "RMSE : 4.928602182665337\n",
      "R2 Score : 0.668759493535632\n"
     ]
    }
   ],
   "source": [
    "# Evaluating the model performace using metrics\n",
    "from sklearn.metrics import mean_absolute_error,mean_squared_error,r2_score\n",
    "print(\"MAE :\",mean_absolute_error(y_test,y_pred))\n",
    "print(\"MSE :\",mean_squared_error(y_test,y_pred))\n",
    "print(\"RMSE :\",np.sqrt(mean_squared_error(y_test,y_pred)))\n",
    "print(\"R2 Score :\",r2_score(y_test,y_pred))"
   ]
  },
  {
   "cell_type": "code",
   "execution_count": 20,
   "id": "4ef4f721",
   "metadata": {},
   "outputs": [],
   "source": [
    "# Model Selection"
   ]
  },
  {
   "cell_type": "code",
   "execution_count": 21,
   "id": "8bd2511d",
   "metadata": {},
   "outputs": [],
   "source": [
    "def model_per(model):\n",
    "    model.fit(scaled_X_train,y_train)\n",
    "    y_p = model.predict(scaled_X_test)\n",
    "    print(\"MAE :\",mean_absolute_error(y_test,y_p))\n",
    "    print(\"MSE :\",mean_squared_error(y_test,y_p))\n",
    "    print(\"RMSE :\",np.sqrt(mean_squared_error(y_test,y_p)))\n",
    "    print(\"R2 Score :\",r2_score(y_test,y_p))"
   ]
  },
  {
   "cell_type": "code",
   "execution_count": 22,
   "id": "8b1ca2a5",
   "metadata": {},
   "outputs": [],
   "source": [
    "# Import Various Regression Model Algorithms\n",
    "from sklearn.linear_model import Ridge,Lasso,SGDRegressor\n",
    "from sklearn.tree import DecisionTreeRegressor\n",
    "from sklearn.ensemble import AdaBoostRegressor,GradientBoostingRegressor,RandomForestRegressor,BaggingRegressor,ExtraTreesRegressor\n",
    "from sklearn.svm import SVR"
   ]
  },
  {
   "cell_type": "code",
   "execution_count": 23,
   "id": "da36d830",
   "metadata": {},
   "outputs": [
    {
     "name": "stdout",
     "output_type": "stream",
     "text": [
      "MAE : 3.1857238072446\n",
      "MSE : 24.312903830491596\n",
      "RMSE : 4.930811680696353\n",
      "R2 Score : 0.6684624359643561\n"
     ]
    }
   ],
   "source": [
    "model =Ridge()\n",
    "model_per(model)"
   ]
  },
  {
   "cell_type": "code",
   "execution_count": 24,
   "id": "1a4bb442",
   "metadata": {},
   "outputs": [
    {
     "name": "stdout",
     "output_type": "stream",
     "text": [
      "MAE : 3.473770443541664\n",
      "MSE : 27.577691776134742\n",
      "RMSE : 5.251446636512147\n",
      "R2 Score : 0.6239428734251422\n"
     ]
    }
   ],
   "source": [
    "model = Lasso()\n",
    "model_per(model)"
   ]
  },
  {
   "cell_type": "code",
   "execution_count": 25,
   "id": "498e8558",
   "metadata": {},
   "outputs": [
    {
     "name": "stdout",
     "output_type": "stream",
     "text": [
      "MAE : 3.22408196283909\n",
      "MSE : 24.916217986222154\n",
      "RMSE : 4.991614767409656\n",
      "R2 Score : 0.660235475214062\n"
     ]
    }
   ],
   "source": [
    "model = SGDRegressor()\n",
    "model_per(model)"
   ]
  },
  {
   "cell_type": "code",
   "execution_count": 26,
   "id": "a36406c4",
   "metadata": {},
   "outputs": [
    {
     "name": "stdout",
     "output_type": "stream",
     "text": [
      "MAE : 2.801960784313726\n",
      "MSE : 23.269019607843134\n",
      "RMSE : 4.823797218773104\n",
      "R2 Score : 0.6826971335029559\n"
     ]
    }
   ],
   "source": [
    "model = DecisionTreeRegressor()\n",
    "model_per(model)"
   ]
  },
  {
   "cell_type": "code",
   "execution_count": 27,
   "id": "cba3cd03",
   "metadata": {},
   "outputs": [
    {
     "name": "stdout",
     "output_type": "stream",
     "text": [
      "MAE : 2.466656729649883\n",
      "MSE : 12.993366634843815\n",
      "RMSE : 3.604631275851084\n",
      "R2 Score : 0.8228188145368471\n"
     ]
    }
   ],
   "source": [
    "model = AdaBoostRegressor()\n",
    "model_per(model)"
   ]
  },
  {
   "cell_type": "code",
   "execution_count": 28,
   "id": "17a35275",
   "metadata": {},
   "outputs": [
    {
     "name": "stdout",
     "output_type": "stream",
     "text": [
      "MAE : 1.9078945433794308\n",
      "MSE : 6.167888978112205\n",
      "RMSE : 2.483523500616051\n",
      "R2 Score : 0.9158929389388256\n"
     ]
    }
   ],
   "source": [
    "model = GradientBoostingRegressor()\n",
    "model_per(model)"
   ]
  },
  {
   "cell_type": "code",
   "execution_count": 29,
   "id": "9559a1f3",
   "metadata": {},
   "outputs": [
    {
     "name": "stdout",
     "output_type": "stream",
     "text": [
      "MAE : 2.1342156862745094\n",
      "MSE : 8.763115745098034\n",
      "RMSE : 2.960256026950715\n",
      "R2 Score : 0.8805037001031294\n"
     ]
    }
   ],
   "source": [
    "model = RandomForestRegressor()\n",
    "model_per(model)"
   ]
  },
  {
   "cell_type": "code",
   "execution_count": 30,
   "id": "c4c95ae8",
   "metadata": {},
   "outputs": [
    {
     "name": "stdout",
     "output_type": "stream",
     "text": [
      "MAE : 2.731716176155842\n",
      "MSE : 25.66853967839608\n",
      "RMSE : 5.066412900504269\n",
      "R2 Score : 0.649976605976003\n"
     ]
    }
   ],
   "source": [
    "model = SVR()\n",
    "model_per(model)"
   ]
  },
  {
   "cell_type": "code",
   "execution_count": 31,
   "id": "f657d662",
   "metadata": {},
   "outputs": [
    {
     "name": "stdout",
     "output_type": "stream",
     "text": [
      "MAE : 2.1730392156862743\n",
      "MSE : 12.090567647058823\n",
      "RMSE : 3.4771493564497375\n",
      "R2 Score : 0.8351296343102017\n"
     ]
    }
   ],
   "source": [
    "model = BaggingRegressor()\n",
    "model_per(model)"
   ]
  },
  {
   "cell_type": "code",
   "execution_count": 32,
   "id": "161e2e10",
   "metadata": {},
   "outputs": [
    {
     "name": "stdout",
     "output_type": "stream",
     "text": [
      "MAE : 1.9266274509803907\n",
      "MSE : 10.19732047058823\n",
      "RMSE : 3.1933243603787305\n",
      "R2 Score : 0.8609464829014104\n"
     ]
    }
   ],
   "source": [
    "model = ExtraTreesRegressor()\n",
    "model_per(model)"
   ]
  },
  {
   "cell_type": "code",
   "execution_count": 33,
   "id": "d5b60cfe",
   "metadata": {},
   "outputs": [],
   "source": [
    "# Final Model\n",
    "gbr = GradientBoostingRegressor()\n",
    "gbr.fit(scaled_X_train,y_train)\n",
    "gbr_y_pred = gbr.predict(scaled_X_test)"
   ]
  },
  {
   "cell_type": "code",
   "execution_count": 34,
   "id": "204cd4cb",
   "metadata": {},
   "outputs": [
    {
     "name": "stdout",
     "output_type": "stream",
     "text": [
      "MAE : 1.9036286668814681\n",
      "MSE : 6.118379560310591\n",
      "RMSE : 2.4735358417275037\n",
      "R2 Score : 0.9165680632221778\n"
     ]
    }
   ],
   "source": [
    "# Evaluating the Final model performace using metrics\n",
    "from sklearn.metrics import mean_absolute_error,mean_squared_error,r2_score\n",
    "print(\"MAE :\",mean_absolute_error(y_test,gbr_y_pred))\n",
    "print(\"MSE :\",mean_squared_error(y_test,gbr_y_pred))\n",
    "print(\"RMSE :\",np.sqrt(mean_squared_error(y_test,gbr_y_pred)))\n",
    "print(\"R2 Score :\",r2_score(y_test,gbr_y_pred))"
   ]
  },
  {
   "cell_type": "code",
   "execution_count": 35,
   "id": "5924dc0d",
   "metadata": {},
   "outputs": [],
   "source": [
    "#finding residuals\n",
    "residuals = y_test-gbr_y_pred"
   ]
  },
  {
   "cell_type": "code",
   "execution_count": 36,
   "id": "a51c0765",
   "metadata": {},
   "outputs": [
    {
     "data": {
      "text/plain": [
       "<matplotlib.lines.Line2D at 0x1dde9fa25c0>"
      ]
     },
     "execution_count": 36,
     "metadata": {},
     "output_type": "execute_result"
    },
    {
     "data": {
      "image/png": "[encoded data removed]",
      "text/plain": [
       "<Figure size 640x480 with 1 Axes>"
      ]
     },
     "metadata": {},
     "output_type": "display_data"
    }
   ],
   "source": [
    "# plot the residuals to find the pattern of residuals\n",
    "sns.scatterplot(gbr_y_pred,residuals)\n",
    "plt.axhline(y=0,c='r')"
   ]
  },
  {
   "cell_type": "code",
   "execution_count": 37,
   "id": "3fce525b",
   "metadata": {},
   "outputs": [
    {
     "data": {
      "text/plain": [
       "<AxesSubplot:ylabel='Count'>"
      ]
     },
     "execution_count": 37,
     "metadata": {},
     "output_type": "execute_result"
    },
    {
     "data": {
      "image/png": "[encoded data removed]",
      "text/plain": [
       "<Figure size 640x480 with 1 Axes>"
      ]
     },
     "metadata": {},
     "output_type": "display_data"
    }
   ],
   "source": [
    "# residuals should follow normal distibution\n",
    "sns.histplot(residuals,kde=True)"
   ]
  },
  {
   "cell_type": "code",
   "execution_count": 38,
   "id": "330f1961",
   "metadata": {},
   "outputs": [],
   "source": [
    "# Prediction \n",
    "new_data = boston.data[1]"
   ]
  },
  {
   "cell_type": "code",
   "execution_count": 39,
   "id": "0c51fb82",
   "metadata": {},
   "outputs": [],
   "source": [
    "nd =np.asarray(new_data).reshape(1,-1)"
   ]
  },
  {
   "cell_type": "code",
   "execution_count": 40,
   "id": "5c1656f9",
   "metadata": {},
   "outputs": [
    {
     "data": {
      "text/plain": [
       "array([[-0.40408251, -0.50032012, -0.56854551, -0.27808871, -0.74417419,\n",
       "         0.14833882,  0.36993815,  0.54444797, -0.85748501, -0.97629231,\n",
       "        -0.23285291,  0.44418004, -0.46712894]])"
      ]
     },
     "execution_count": 40,
     "metadata": {},
     "output_type": "execute_result"
    }
   ],
   "source": [
    "scaler.transform(nd)"
   ]
  },
  {
   "cell_type": "code",
   "execution_count": 41,
   "id": "a3e71cad",
   "metadata": {},
   "outputs": [],
   "source": [
    "gbr_y_pred = gbr.predict(scaler.transform(nd))"
   ]
  },
  {
   "cell_type": "code",
   "execution_count": 42,
   "id": "2dc12d86",
   "metadata": {},
   "outputs": [
    {
     "data": {
      "text/plain": [
       "array([21.25027111])"
      ]
     },
     "execution_count": 42,
     "metadata": {},
     "output_type": "execute_result"
    }
   ],
   "source": [
    "gbr_y_pred"
   ]
  },
  {
   "cell_type": "code",
   "execution_count": 43,
   "id": "4565e77a",
   "metadata": {},
   "outputs": [
    {
     "data": {
      "text/plain": [
       "21.6"
      ]
     },
     "execution_count": 43,
     "metadata": {},
     "output_type": "execute_result"
    }
   ],
   "source": [
    "y[1]"
   ]
  },
  {
   "cell_type": "code",
   "execution_count": 44,
   "id": "611094c5",
   "metadata": {},
   "outputs": [],
   "source": [
    "# Pickle the model for deployment"
   ]
  },
  {
   "cell_type": "code",
   "execution_count": 45,
   "id": "f9836d10",
   "metadata": {},
   "outputs": [],
   "source": [
    "import pickle\n",
    "pickle.dump(gbr,open('model.pkl','wb'))"
   ]
  },
  {
   "cell_type": "code",
   "execution_count": 46,
   "id": "62e28c94",
   "metadata": {},
   "outputs": [],
   "source": [
    "pick_model = pickle.load(open('model.pkl','rb'))"
   ]
  },
  {
   "cell_type": "code",
   "execution_count": 47,
   "id": "a8b71338",
   "metadata": {},
   "outputs": [
    {
     "data": {
      "text/plain": [
       "array([21.25027111])"
      ]
     },
     "execution_count": 47,
     "metadata": {},
     "output_type": "execute_result"
    }
   ],
   "source": [
    "pick_model.predict(scaler.transform(nd))"
   ]
  },
  {
   "cell_type": "code",
   "execution_count": 55,
   "id": "eee5fb80",
   "metadata": {},
   "outputs": [],
   "source": [
    "# All Regression model in one flow\n",
    "models = [LinearRegression(),DecisionTreeRegressor(),Ridge(),Lasso(),SGDRegressor(),AdaBoostRegressor(),GradientBoostingRegressor(),RandomForestRegressor(),BaggingRegressor(),ExtraTreesRegressor(),SVR()]"
   ]
  },
  {
   "cell_type": "code",
   "execution_count": 54,
   "id": "06d37308",
   "metadata": {},
   "outputs": [
    {
     "name": "stdout",
     "output_type": "stream",
     "text": [
      "LinearRegression()\n",
      "MAE : 3.1890919658878483\n",
      "MSE : 24.29111947497352\n",
      "RMSE : 4.928602182665337\n",
      "R2 Score : 0.668759493535632\n",
      "\n",
      "\n",
      "DecisionTreeRegressor()\n",
      "MAE : 2.7823529411764714\n",
      "MSE : 22.867254901960784\n",
      "RMSE : 4.78197186335938\n",
      "R2 Score : 0.6881757095230149\n",
      "\n",
      "\n",
      "Ridge()\n",
      "MAE : 3.1857238072446\n",
      "MSE : 24.312903830491596\n",
      "RMSE : 4.930811680696353\n",
      "R2 Score : 0.6684624359643561\n",
      "\n",
      "\n",
      "Lasso()\n",
      "MAE : 3.473770443541664\n",
      "MSE : 27.577691776134742\n",
      "RMSE : 5.251446636512147\n",
      "R2 Score : 0.6239428734251422\n",
      "\n",
      "\n",
      "SGDRegressor()\n",
      "MAE : 3.2120177661399185\n",
      "MSE : 24.854506790559302\n",
      "RMSE : 4.985429448960169\n",
      "R2 Score : 0.6610769863567223\n",
      "\n",
      "\n",
      "AdaBoostRegressor()\n",
      "MAE : 2.6719682151166806\n",
      "MSE : 14.107083282674816\n",
      "RMSE : 3.755939733631893\n",
      "R2 Score : 0.8076318624959824\n",
      "\n",
      "\n",
      "GradientBoostingRegressor()\n",
      "MAE : 1.9186768075662763\n",
      "MSE : 6.2387503674983895\n",
      "RMSE : 2.4977490601536396\n",
      "R2 Score : 0.9149266531925787\n",
      "\n",
      "\n",
      "RandomForestRegressor()\n",
      "MAE : 2.1310882352941176\n",
      "MSE : 9.181701088235293\n",
      "RMSE : 3.0301321898945752\n",
      "R2 Score : 0.8747957531638293\n",
      "\n",
      "\n",
      "BaggingRegressor()\n",
      "MAE : 2.1195098039215683\n",
      "MSE : 8.711049999999998\n",
      "RMSE : 2.9514487967776093\n",
      "R2 Score : 0.881213683181245\n",
      "\n",
      "\n",
      "ExtraTreesRegressor()\n",
      "MAE : 1.885382352941177\n",
      "MSE : 8.816413872549022\n",
      "RMSE : 2.9692446636390577\n",
      "R2 Score : 0.8797769119141924\n",
      "\n",
      "\n",
      "SVR()\n",
      "MAE : 2.731716176155842\n",
      "MSE : 25.66853967839608\n",
      "RMSE : 5.066412900504269\n",
      "R2 Score : 0.649976605976003\n",
      "\n",
      "\n"
     ]
    }
   ],
   "source": [
    "for model in models:\n",
    "    model.fit(scaled_X_train,y_train)\n",
    "    y_p = model.predict(scaled_X_test)\n",
    "    print(model)\n",
    "    print(\"MAE :\",mean_absolute_error(y_test,y_p))\n",
    "    print(\"MSE :\",mean_squared_error(y_test,y_p))\n",
    "    print(\"RMSE :\",np.sqrt(mean_squared_error(y_test,y_p)))\n",
    "    print(\"R2 Score :\",r2_score(y_test,y_p))\n",
    "    print('\\n')"
   ]
  }
 ],
 "metadata": {
  "kernelspec": {
   "display_name": "Python 3 (ipykernel)",
   "language": "python",
   "name": "python3"
  },
  "language_info": {
   "codemirror_mode": {
    "name": "ipython",
    "version": 3
   },
   "file_extension": ".py",
   "mimetype": "text/x-python",
   "name": "python",
   "nbconvert_exporter": "python",
   "pygments_lexer": "ipython3",
   "version": "3.8.0"
  }
 },
 "nbformat": 4,
 "nbformat_minor": 5
}
