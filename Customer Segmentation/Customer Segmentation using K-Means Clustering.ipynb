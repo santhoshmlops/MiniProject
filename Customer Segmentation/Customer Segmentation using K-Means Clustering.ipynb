{
 "cells": [
  {
   "cell_type": "markdown",
   "id": "03260c96",
   "metadata": {},
   "source": [
    "# Customer Segmentation using K-Means Clustering"
   ]
  },
  {
   "cell_type": "markdown",
   "id": "95c73990",
   "metadata": {},
   "source": [
    "# Import required packages"
   ]
  },
  {
   "cell_type": "code",
   "execution_count": 1,
   "id": "4ed8b31b",
   "metadata": {},
   "outputs": [],
   "source": [
    "import numpy as np\n",
    "import pandas as pd\n",
    "import seaborn as sns\n",
    "import matplotlib.pyplot as plt\n",
    "%matplotlib inline"
   ]
  },
  {
   "cell_type": "markdown",
   "id": "4f1b0732",
   "metadata": {},
   "source": [
    "# Load the Dataset"
   ]
  },
  {
   "cell_type": "code",
   "execution_count": 16,
   "id": "f5a011b5",
   "metadata": {},
   "outputs": [],
   "source": [
    "df = pd.read_csv(\"Mall_Customers.csv\")"
   ]
  },
  {
   "cell_type": "code",
   "execution_count": 17,
   "id": "86ea781e",
   "metadata": {},
   "outputs": [
    {
     "data": {
      "text/html": [
       "<div>\n",
       "<style scoped>\n",
       "    .dataframe tbody tr th:only-of-type {\n",
       "        vertical-align: middle;\n",
       "    }\n",
       "\n",
       "    .dataframe tbody tr th {\n",
       "        vertical-align: top;\n",
       "    }\n",
       "\n",
       "    .dataframe thead th {\n",
       "        text-align: right;\n",
       "    }\n",
       "</style>\n",
       "<table border=\"1\" class=\"dataframe\">\n",
       "  <thead>\n",
       "    <tr style=\"text-align: right;\">\n",
       "      <th></th>\n",
       "      <th>CustomerID</th>\n",
       "      <th>Gender</th>\n",
       "      <th>Age</th>\n",
       "      <th>Annual Income (k$)</th>\n",
       "      <th>Spending Score (1-100)</th>\n",
       "    </tr>\n",
       "  </thead>\n",
       "  <tbody>\n",
       "    <tr>\n",
       "      <th>0</th>\n",
       "      <td>1</td>\n",
       "      <td>Male</td>\n",
       "      <td>19</td>\n",
       "      <td>15</td>\n",
       "      <td>39</td>\n",
       "    </tr>\n",
       "    <tr>\n",
       "      <th>1</th>\n",
       "      <td>2</td>\n",
       "      <td>Male</td>\n",
       "      <td>21</td>\n",
       "      <td>15</td>\n",
       "      <td>81</td>\n",
       "    </tr>\n",
       "    <tr>\n",
       "      <th>2</th>\n",
       "      <td>3</td>\n",
       "      <td>Female</td>\n",
       "      <td>20</td>\n",
       "      <td>16</td>\n",
       "      <td>6</td>\n",
       "    </tr>\n",
       "    <tr>\n",
       "      <th>3</th>\n",
       "      <td>4</td>\n",
       "      <td>Female</td>\n",
       "      <td>23</td>\n",
       "      <td>16</td>\n",
       "      <td>77</td>\n",
       "    </tr>\n",
       "    <tr>\n",
       "      <th>4</th>\n",
       "      <td>5</td>\n",
       "      <td>Female</td>\n",
       "      <td>31</td>\n",
       "      <td>17</td>\n",
       "      <td>40</td>\n",
       "    </tr>\n",
       "  </tbody>\n",
       "</table>\n",
       "</div>"
      ],
      "text/plain": [
       "   CustomerID  Gender  Age  Annual Income (k$)  Spending Score (1-100)\n",
       "0           1    Male   19                  15                      39\n",
       "1           2    Male   21                  15                      81\n",
       "2           3  Female   20                  16                       6\n",
       "3           4  Female   23                  16                      77\n",
       "4           5  Female   31                  17                      40"
      ]
     },
     "execution_count": 17,
     "metadata": {},
     "output_type": "execute_result"
    }
   ],
   "source": [
    "df.head()"
   ]
  },
  {
   "cell_type": "markdown",
   "id": "382d79af",
   "metadata": {},
   "source": [
    "# Gather Information about the dataset"
   ]
  },
  {
   "cell_type": "code",
   "execution_count": 18,
   "id": "f6e475a5",
   "metadata": {},
   "outputs": [
    {
     "data": {
      "text/plain": [
       "(200, 5)"
      ]
     },
     "execution_count": 18,
     "metadata": {},
     "output_type": "execute_result"
    }
   ],
   "source": [
    "#shape of the dataset\n",
    "df.shape"
   ]
  },
  {
   "cell_type": "code",
   "execution_count": 19,
   "id": "e494941e",
   "metadata": {},
   "outputs": [
    {
     "data": {
      "text/plain": [
       "CustomerID                0\n",
       "Gender                    0\n",
       "Age                       0\n",
       "Annual Income (k$)        0\n",
       "Spending Score (1-100)    0\n",
       "dtype: int64"
      ]
     },
     "execution_count": 19,
     "metadata": {},
     "output_type": "execute_result"
    }
   ],
   "source": [
    "# Finding any null Values in the dataset\n",
    "df.isnull().sum()"
   ]
  },
  {
   "cell_type": "code",
   "execution_count": 20,
   "id": "78791d3a",
   "metadata": {},
   "outputs": [
    {
     "data": {
      "text/html": [
       "<div>\n",
       "<style scoped>\n",
       "    .dataframe tbody tr th:only-of-type {\n",
       "        vertical-align: middle;\n",
       "    }\n",
       "\n",
       "    .dataframe tbody tr th {\n",
       "        vertical-align: top;\n",
       "    }\n",
       "\n",
       "    .dataframe thead th {\n",
       "        text-align: right;\n",
       "    }\n",
       "</style>\n",
       "<table border=\"1\" class=\"dataframe\">\n",
       "  <thead>\n",
       "    <tr style=\"text-align: right;\">\n",
       "      <th></th>\n",
       "      <th>CustomerID</th>\n",
       "      <th>Age</th>\n",
       "      <th>Annual Income (k$)</th>\n",
       "      <th>Spending Score (1-100)</th>\n",
       "    </tr>\n",
       "  </thead>\n",
       "  <tbody>\n",
       "    <tr>\n",
       "      <th>count</th>\n",
       "      <td>200.000000</td>\n",
       "      <td>200.000000</td>\n",
       "      <td>200.000000</td>\n",
       "      <td>200.000000</td>\n",
       "    </tr>\n",
       "    <tr>\n",
       "      <th>mean</th>\n",
       "      <td>100.500000</td>\n",
       "      <td>38.850000</td>\n",
       "      <td>60.560000</td>\n",
       "      <td>50.200000</td>\n",
       "    </tr>\n",
       "    <tr>\n",
       "      <th>std</th>\n",
       "      <td>57.879185</td>\n",
       "      <td>13.969007</td>\n",
       "      <td>26.264721</td>\n",
       "      <td>25.823522</td>\n",
       "    </tr>\n",
       "    <tr>\n",
       "      <th>min</th>\n",
       "      <td>1.000000</td>\n",
       "      <td>18.000000</td>\n",
       "      <td>15.000000</td>\n",
       "      <td>1.000000</td>\n",
       "    </tr>\n",
       "    <tr>\n",
       "      <th>25%</th>\n",
       "      <td>50.750000</td>\n",
       "      <td>28.750000</td>\n",
       "      <td>41.500000</td>\n",
       "      <td>34.750000</td>\n",
       "    </tr>\n",
       "    <tr>\n",
       "      <th>50%</th>\n",
       "      <td>100.500000</td>\n",
       "      <td>36.000000</td>\n",
       "      <td>61.500000</td>\n",
       "      <td>50.000000</td>\n",
       "    </tr>\n",
       "    <tr>\n",
       "      <th>75%</th>\n",
       "      <td>150.250000</td>\n",
       "      <td>49.000000</td>\n",
       "      <td>78.000000</td>\n",
       "      <td>73.000000</td>\n",
       "    </tr>\n",
       "    <tr>\n",
       "      <th>max</th>\n",
       "      <td>200.000000</td>\n",
       "      <td>70.000000</td>\n",
       "      <td>137.000000</td>\n",
       "      <td>99.000000</td>\n",
       "    </tr>\n",
       "  </tbody>\n",
       "</table>\n",
       "</div>"
      ],
      "text/plain": [
       "       CustomerID         Age  Annual Income (k$)  Spending Score (1-100)\n",
       "count  200.000000  200.000000          200.000000              200.000000\n",
       "mean   100.500000   38.850000           60.560000               50.200000\n",
       "std     57.879185   13.969007           26.264721               25.823522\n",
       "min      1.000000   18.000000           15.000000                1.000000\n",
       "25%     50.750000   28.750000           41.500000               34.750000\n",
       "50%    100.500000   36.000000           61.500000               50.000000\n",
       "75%    150.250000   49.000000           78.000000               73.000000\n",
       "max    200.000000   70.000000          137.000000               99.000000"
      ]
     },
     "execution_count": 20,
     "metadata": {},
     "output_type": "execute_result"
    }
   ],
   "source": [
    "# Information about the dataset\n",
    "df.describe()"
   ]
  },
  {
   "cell_type": "markdown",
   "id": "6090be34",
   "metadata": {},
   "source": [
    "# data trasformation"
   ]
  },
  {
   "cell_type": "code",
   "execution_count": 21,
   "id": "4f325746",
   "metadata": {},
   "outputs": [],
   "source": [
    "df = pd.get_dummies(df,drop_first=True)"
   ]
  },
  {
   "cell_type": "code",
   "execution_count": 22,
   "id": "57c964af",
   "metadata": {},
   "outputs": [
    {
     "data": {
      "text/html": [
       "<div>\n",
       "<style scoped>\n",
       "    .dataframe tbody tr th:only-of-type {\n",
       "        vertical-align: middle;\n",
       "    }\n",
       "\n",
       "    .dataframe tbody tr th {\n",
       "        vertical-align: top;\n",
       "    }\n",
       "\n",
       "    .dataframe thead th {\n",
       "        text-align: right;\n",
       "    }\n",
       "</style>\n",
       "<table border=\"1\" class=\"dataframe\">\n",
       "  <thead>\n",
       "    <tr style=\"text-align: right;\">\n",
       "      <th></th>\n",
       "      <th>CustomerID</th>\n",
       "      <th>Age</th>\n",
       "      <th>Annual Income (k$)</th>\n",
       "      <th>Spending Score (1-100)</th>\n",
       "      <th>Gender_Male</th>\n",
       "    </tr>\n",
       "  </thead>\n",
       "  <tbody>\n",
       "    <tr>\n",
       "      <th>0</th>\n",
       "      <td>1</td>\n",
       "      <td>19</td>\n",
       "      <td>15</td>\n",
       "      <td>39</td>\n",
       "      <td>1</td>\n",
       "    </tr>\n",
       "    <tr>\n",
       "      <th>1</th>\n",
       "      <td>2</td>\n",
       "      <td>21</td>\n",
       "      <td>15</td>\n",
       "      <td>81</td>\n",
       "      <td>1</td>\n",
       "    </tr>\n",
       "    <tr>\n",
       "      <th>2</th>\n",
       "      <td>3</td>\n",
       "      <td>20</td>\n",
       "      <td>16</td>\n",
       "      <td>6</td>\n",
       "      <td>0</td>\n",
       "    </tr>\n",
       "    <tr>\n",
       "      <th>3</th>\n",
       "      <td>4</td>\n",
       "      <td>23</td>\n",
       "      <td>16</td>\n",
       "      <td>77</td>\n",
       "      <td>0</td>\n",
       "    </tr>\n",
       "    <tr>\n",
       "      <th>4</th>\n",
       "      <td>5</td>\n",
       "      <td>31</td>\n",
       "      <td>17</td>\n",
       "      <td>40</td>\n",
       "      <td>0</td>\n",
       "    </tr>\n",
       "    <tr>\n",
       "      <th>...</th>\n",
       "      <td>...</td>\n",
       "      <td>...</td>\n",
       "      <td>...</td>\n",
       "      <td>...</td>\n",
       "      <td>...</td>\n",
       "    </tr>\n",
       "    <tr>\n",
       "      <th>195</th>\n",
       "      <td>196</td>\n",
       "      <td>35</td>\n",
       "      <td>120</td>\n",
       "      <td>79</td>\n",
       "      <td>0</td>\n",
       "    </tr>\n",
       "    <tr>\n",
       "      <th>196</th>\n",
       "      <td>197</td>\n",
       "      <td>45</td>\n",
       "      <td>126</td>\n",
       "      <td>28</td>\n",
       "      <td>0</td>\n",
       "    </tr>\n",
       "    <tr>\n",
       "      <th>197</th>\n",
       "      <td>198</td>\n",
       "      <td>32</td>\n",
       "      <td>126</td>\n",
       "      <td>74</td>\n",
       "      <td>1</td>\n",
       "    </tr>\n",
       "    <tr>\n",
       "      <th>198</th>\n",
       "      <td>199</td>\n",
       "      <td>32</td>\n",
       "      <td>137</td>\n",
       "      <td>18</td>\n",
       "      <td>1</td>\n",
       "    </tr>\n",
       "    <tr>\n",
       "      <th>199</th>\n",
       "      <td>200</td>\n",
       "      <td>30</td>\n",
       "      <td>137</td>\n",
       "      <td>83</td>\n",
       "      <td>1</td>\n",
       "    </tr>\n",
       "  </tbody>\n",
       "</table>\n",
       "<p>200 rows × 5 columns</p>\n",
       "</div>"
      ],
      "text/plain": [
       "     CustomerID  Age  Annual Income (k$)  Spending Score (1-100)  Gender_Male\n",
       "0             1   19                  15                      39            1\n",
       "1             2   21                  15                      81            1\n",
       "2             3   20                  16                       6            0\n",
       "3             4   23                  16                      77            0\n",
       "4             5   31                  17                      40            0\n",
       "..          ...  ...                 ...                     ...          ...\n",
       "195         196   35                 120                      79            0\n",
       "196         197   45                 126                      28            0\n",
       "197         198   32                 126                      74            1\n",
       "198         199   32                 137                      18            1\n",
       "199         200   30                 137                      83            1\n",
       "\n",
       "[200 rows x 5 columns]"
      ]
     },
     "execution_count": 22,
     "metadata": {},
     "output_type": "execute_result"
    }
   ],
   "source": [
    "df"
   ]
  },
  {
   "cell_type": "code",
   "execution_count": 23,
   "id": "13f36e5f",
   "metadata": {},
   "outputs": [],
   "source": [
    "x=df.values"
   ]
  },
  {
   "cell_type": "code",
   "execution_count": 24,
   "id": "956528c4",
   "metadata": {},
   "outputs": [
    {
     "data": {
      "text/plain": [
       "array([[  1,  19,  15,  39,   1],\n",
       "       [  2,  21,  15,  81,   1],\n",
       "       [  3,  20,  16,   6,   0],\n",
       "       [  4,  23,  16,  77,   0],\n",
       "       [  5,  31,  17,  40,   0],\n",
       "       [  6,  22,  17,  76,   0],\n",
       "       [  7,  35,  18,   6,   0],\n",
       "       [  8,  23,  18,  94,   0],\n",
       "       [  9,  64,  19,   3,   1],\n",
       "       [ 10,  30,  19,  72,   0],\n",
       "       [ 11,  67,  19,  14,   1],\n",
       "       [ 12,  35,  19,  99,   0],\n",
       "       [ 13,  58,  20,  15,   0],\n",
       "       [ 14,  24,  20,  77,   0],\n",
       "       [ 15,  37,  20,  13,   1],\n",
       "       [ 16,  22,  20,  79,   1],\n",
       "       [ 17,  35,  21,  35,   0],\n",
       "       [ 18,  20,  21,  66,   1],\n",
       "       [ 19,  52,  23,  29,   1],\n",
       "       [ 20,  35,  23,  98,   0],\n",
       "       [ 21,  35,  24,  35,   1],\n",
       "       [ 22,  25,  24,  73,   1],\n",
       "       [ 23,  46,  25,   5,   0],\n",
       "       [ 24,  31,  25,  73,   1],\n",
       "       [ 25,  54,  28,  14,   0],\n",
       "       [ 26,  29,  28,  82,   1],\n",
       "       [ 27,  45,  28,  32,   0],\n",
       "       [ 28,  35,  28,  61,   1],\n",
       "       [ 29,  40,  29,  31,   0],\n",
       "       [ 30,  23,  29,  87,   0],\n",
       "       [ 31,  60,  30,   4,   1],\n",
       "       [ 32,  21,  30,  73,   0],\n",
       "       [ 33,  53,  33,   4,   1],\n",
       "       [ 34,  18,  33,  92,   1],\n",
       "       [ 35,  49,  33,  14,   0],\n",
       "       [ 36,  21,  33,  81,   0],\n",
       "       [ 37,  42,  34,  17,   0],\n",
       "       [ 38,  30,  34,  73,   0],\n",
       "       [ 39,  36,  37,  26,   0],\n",
       "       [ 40,  20,  37,  75,   0],\n",
       "       [ 41,  65,  38,  35,   0],\n",
       "       [ 42,  24,  38,  92,   1],\n",
       "       [ 43,  48,  39,  36,   1],\n",
       "       [ 44,  31,  39,  61,   0],\n",
       "       [ 45,  49,  39,  28,   0],\n",
       "       [ 46,  24,  39,  65,   0],\n",
       "       [ 47,  50,  40,  55,   0],\n",
       "       [ 48,  27,  40,  47,   0],\n",
       "       [ 49,  29,  40,  42,   0],\n",
       "       [ 50,  31,  40,  42,   0],\n",
       "       [ 51,  49,  42,  52,   0],\n",
       "       [ 52,  33,  42,  60,   1],\n",
       "       [ 53,  31,  43,  54,   0],\n",
       "       [ 54,  59,  43,  60,   1],\n",
       "       [ 55,  50,  43,  45,   0],\n",
       "       [ 56,  47,  43,  41,   1],\n",
       "       [ 57,  51,  44,  50,   0],\n",
       "       [ 58,  69,  44,  46,   1],\n",
       "       [ 59,  27,  46,  51,   0],\n",
       "       [ 60,  53,  46,  46,   1],\n",
       "       [ 61,  70,  46,  56,   1],\n",
       "       [ 62,  19,  46,  55,   1],\n",
       "       [ 63,  67,  47,  52,   0],\n",
       "       [ 64,  54,  47,  59,   0],\n",
       "       [ 65,  63,  48,  51,   1],\n",
       "       [ 66,  18,  48,  59,   1],\n",
       "       [ 67,  43,  48,  50,   0],\n",
       "       [ 68,  68,  48,  48,   0],\n",
       "       [ 69,  19,  48,  59,   1],\n",
       "       [ 70,  32,  48,  47,   0],\n",
       "       [ 71,  70,  49,  55,   1],\n",
       "       [ 72,  47,  49,  42,   0],\n",
       "       [ 73,  60,  50,  49,   0],\n",
       "       [ 74,  60,  50,  56,   0],\n",
       "       [ 75,  59,  54,  47,   1],\n",
       "       [ 76,  26,  54,  54,   1],\n",
       "       [ 77,  45,  54,  53,   0],\n",
       "       [ 78,  40,  54,  48,   1],\n",
       "       [ 79,  23,  54,  52,   0],\n",
       "       [ 80,  49,  54,  42,   0],\n",
       "       [ 81,  57,  54,  51,   1],\n",
       "       [ 82,  38,  54,  55,   1],\n",
       "       [ 83,  67,  54,  41,   1],\n",
       "       [ 84,  46,  54,  44,   0],\n",
       "       [ 85,  21,  54,  57,   0],\n",
       "       [ 86,  48,  54,  46,   1],\n",
       "       [ 87,  55,  57,  58,   0],\n",
       "       [ 88,  22,  57,  55,   0],\n",
       "       [ 89,  34,  58,  60,   0],\n",
       "       [ 90,  50,  58,  46,   0],\n",
       "       [ 91,  68,  59,  55,   0],\n",
       "       [ 92,  18,  59,  41,   1],\n",
       "       [ 93,  48,  60,  49,   1],\n",
       "       [ 94,  40,  60,  40,   0],\n",
       "       [ 95,  32,  60,  42,   0],\n",
       "       [ 96,  24,  60,  52,   1],\n",
       "       [ 97,  47,  60,  47,   0],\n",
       "       [ 98,  27,  60,  50,   0],\n",
       "       [ 99,  48,  61,  42,   1],\n",
       "       [100,  20,  61,  49,   1],\n",
       "       [101,  23,  62,  41,   0],\n",
       "       [102,  49,  62,  48,   0],\n",
       "       [103,  67,  62,  59,   1],\n",
       "       [104,  26,  62,  55,   1],\n",
       "       [105,  49,  62,  56,   1],\n",
       "       [106,  21,  62,  42,   0],\n",
       "       [107,  66,  63,  50,   0],\n",
       "       [108,  54,  63,  46,   1],\n",
       "       [109,  68,  63,  43,   1],\n",
       "       [110,  66,  63,  48,   1],\n",
       "       [111,  65,  63,  52,   1],\n",
       "       [112,  19,  63,  54,   0],\n",
       "       [113,  38,  64,  42,   0],\n",
       "       [114,  19,  64,  46,   1],\n",
       "       [115,  18,  65,  48,   0],\n",
       "       [116,  19,  65,  50,   0],\n",
       "       [117,  63,  65,  43,   0],\n",
       "       [118,  49,  65,  59,   0],\n",
       "       [119,  51,  67,  43,   0],\n",
       "       [120,  50,  67,  57,   0],\n",
       "       [121,  27,  67,  56,   1],\n",
       "       [122,  38,  67,  40,   0],\n",
       "       [123,  40,  69,  58,   0],\n",
       "       [124,  39,  69,  91,   1],\n",
       "       [125,  23,  70,  29,   0],\n",
       "       [126,  31,  70,  77,   0],\n",
       "       [127,  43,  71,  35,   1],\n",
       "       [128,  40,  71,  95,   1],\n",
       "       [129,  59,  71,  11,   1],\n",
       "       [130,  38,  71,  75,   1],\n",
       "       [131,  47,  71,   9,   1],\n",
       "       [132,  39,  71,  75,   1],\n",
       "       [133,  25,  72,  34,   0],\n",
       "       [134,  31,  72,  71,   0],\n",
       "       [135,  20,  73,   5,   1],\n",
       "       [136,  29,  73,  88,   0],\n",
       "       [137,  44,  73,   7,   0],\n",
       "       [138,  32,  73,  73,   1],\n",
       "       [139,  19,  74,  10,   1],\n",
       "       [140,  35,  74,  72,   0],\n",
       "       [141,  57,  75,   5,   0],\n",
       "       [142,  32,  75,  93,   1],\n",
       "       [143,  28,  76,  40,   0],\n",
       "       [144,  32,  76,  87,   0],\n",
       "       [145,  25,  77,  12,   1],\n",
       "       [146,  28,  77,  97,   1],\n",
       "       [147,  48,  77,  36,   1],\n",
       "       [148,  32,  77,  74,   0],\n",
       "       [149,  34,  78,  22,   0],\n",
       "       [150,  34,  78,  90,   1],\n",
       "       [151,  43,  78,  17,   1],\n",
       "       [152,  39,  78,  88,   1],\n",
       "       [153,  44,  78,  20,   0],\n",
       "       [154,  38,  78,  76,   0],\n",
       "       [155,  47,  78,  16,   0],\n",
       "       [156,  27,  78,  89,   0],\n",
       "       [157,  37,  78,   1,   1],\n",
       "       [158,  30,  78,  78,   0],\n",
       "       [159,  34,  78,   1,   1],\n",
       "       [160,  30,  78,  73,   0],\n",
       "       [161,  56,  79,  35,   0],\n",
       "       [162,  29,  79,  83,   0],\n",
       "       [163,  19,  81,   5,   1],\n",
       "       [164,  31,  81,  93,   0],\n",
       "       [165,  50,  85,  26,   1],\n",
       "       [166,  36,  85,  75,   0],\n",
       "       [167,  42,  86,  20,   1],\n",
       "       [168,  33,  86,  95,   0],\n",
       "       [169,  36,  87,  27,   0],\n",
       "       [170,  32,  87,  63,   1],\n",
       "       [171,  40,  87,  13,   1],\n",
       "       [172,  28,  87,  75,   1],\n",
       "       [173,  36,  87,  10,   1],\n",
       "       [174,  36,  87,  92,   1],\n",
       "       [175,  52,  88,  13,   0],\n",
       "       [176,  30,  88,  86,   0],\n",
       "       [177,  58,  88,  15,   1],\n",
       "       [178,  27,  88,  69,   1],\n",
       "       [179,  59,  93,  14,   1],\n",
       "       [180,  35,  93,  90,   1],\n",
       "       [181,  37,  97,  32,   0],\n",
       "       [182,  32,  97,  86,   0],\n",
       "       [183,  46,  98,  15,   1],\n",
       "       [184,  29,  98,  88,   0],\n",
       "       [185,  41,  99,  39,   0],\n",
       "       [186,  30,  99,  97,   1],\n",
       "       [187,  54, 101,  24,   0],\n",
       "       [188,  28, 101,  68,   1],\n",
       "       [189,  41, 103,  17,   0],\n",
       "       [190,  36, 103,  85,   0],\n",
       "       [191,  34, 103,  23,   0],\n",
       "       [192,  32, 103,  69,   0],\n",
       "       [193,  33, 113,   8,   1],\n",
       "       [194,  38, 113,  91,   0],\n",
       "       [195,  47, 120,  16,   0],\n",
       "       [196,  35, 120,  79,   0],\n",
       "       [197,  45, 126,  28,   0],\n",
       "       [198,  32, 126,  74,   1],\n",
       "       [199,  32, 137,  18,   1],\n",
       "       [200,  30, 137,  83,   1]], dtype=int64)"
      ]
     },
     "execution_count": 24,
     "metadata": {},
     "output_type": "execute_result"
    }
   ],
   "source": [
    "x"
   ]
  },
  {
   "cell_type": "markdown",
   "id": "4115ec4f",
   "metadata": {},
   "source": [
    "# Model preparation"
   ]
  },
  {
   "cell_type": "code",
   "execution_count": 26,
   "id": "2d9398fd",
   "metadata": {},
   "outputs": [],
   "source": [
    "from sklearn.cluster import KMeans"
   ]
  },
  {
   "cell_type": "code",
   "execution_count": 27,
   "id": "24217876",
   "metadata": {},
   "outputs": [],
   "source": [
    "# Elbow method\n",
    "wcss=[]\n",
    "for i in range(1,10):\n",
    "    kmeans =KMeans(n_clusters=i)\n",
    "    kmeans.fit(x)\n",
    "    \n",
    "    wcss.append(kmeans.inertia_)"
   ]
  },
  {
   "cell_type": "code",
   "execution_count": 30,
   "id": "34261426",
   "metadata": {},
   "outputs": [
    {
     "data": {
      "text/plain": [
       "[<matplotlib.lines.Line2D at 0x1f67804ef20>]"
      ]
     },
     "execution_count": 30,
     "metadata": {},
     "output_type": "execute_result"
    },
    {
     "data": {
      "image/png": "[encoded data removed]",
      "text/plain": [
       "<Figure size 640x480 with 1 Axes>"
      ]
     },
     "metadata": {},
     "output_type": "display_data"
    }
   ],
   "source": [
    "plt.plot(wcss)"
   ]
  },
  {
   "cell_type": "code",
   "execution_count": 31,
   "id": "cc857979",
   "metadata": {},
   "outputs": [
    {
     "data": {
      "text/plain": [
       "array([4, 4, 2, 4, 2, 4, 2, 4, 2, 4, 2, 4, 2, 4, 2, 4, 2, 4, 2, 4, 2, 4,\n",
       "       2, 4, 2, 4, 2, 4, 2, 4, 2, 4, 2, 4, 2, 4, 2, 4, 2, 4, 2, 4, 2, 4,\n",
       "       2, 4, 2, 2, 2, 2, 2, 2, 2, 2, 2, 2, 2, 2, 2, 2, 2, 0, 0, 0, 0, 0,\n",
       "       0, 0, 0, 0, 0, 0, 0, 0, 0, 0, 0, 0, 0, 0, 0, 0, 0, 0, 0, 0, 0, 0,\n",
       "       0, 0, 0, 0, 0, 0, 0, 0, 0, 0, 0, 0, 0, 0, 0, 0, 0, 0, 0, 0, 0, 0,\n",
       "       0, 0, 0, 0, 0, 0, 0, 0, 0, 0, 0, 0, 0, 1, 0, 1, 0, 1, 3, 1, 3, 1,\n",
       "       3, 1, 3, 1, 3, 1, 3, 1, 3, 1, 3, 1, 3, 1, 3, 1, 3, 1, 3, 1, 3, 1,\n",
       "       3, 1, 3, 1, 3, 1, 3, 1, 3, 1, 3, 1, 3, 1, 3, 1, 3, 1, 3, 1, 3, 1,\n",
       "       3, 1, 3, 1, 3, 1, 3, 1, 3, 1, 3, 1, 3, 1, 3, 1, 3, 1, 3, 1, 3, 1,\n",
       "       3, 1])"
      ]
     },
     "execution_count": 31,
     "metadata": {},
     "output_type": "execute_result"
    }
   ],
   "source": [
    "model = KMeans(n_clusters=5)\n",
    "predict = model.fit_predict(x)\n",
    "predict"
   ]
  },
  {
   "cell_type": "markdown",
   "id": "93a41456",
   "metadata": {},
   "source": [
    "# Visualizing Clusers"
   ]
  },
  {
   "cell_type": "code",
   "execution_count": null,
   "id": "623af4ff",
   "metadata": {},
   "outputs": [],
   "source": [
    "plt.figure(figsize=(8,8))\n",
    "plt.scatter()"
   ]
  }
 ],
 "metadata": {
  "kernelspec": {
   "display_name": "Python 3 (ipykernel)",
   "language": "python",
   "name": "python3"
  },
  "language_info": {
   "codemirror_mode": {
    "name": "ipython",
    "version": 3
   },
   "file_extension": ".py",
   "mimetype": "text/x-python",
   "name": "python",
   "nbconvert_exporter": "python",
   "pygments_lexer": "ipython3",
   "version": "3.10.6"
  }
 },
 "nbformat": 4,
 "nbformat_minor": 5
}
